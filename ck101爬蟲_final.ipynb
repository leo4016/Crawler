{
 "cells": [
  {
   "cell_type": "code",
   "execution_count": 4,
   "metadata": {
    "collapsed": true
   },
   "outputs": [],
   "source": [
    "import requests\n",
    "from bs4 import BeautifulSoup\n",
    "import json\n",
    "import re\n",
    "from datetime import datetime, timedelta, date\n",
    "import time\n",
    "import requests as r\n",
    "from bs4 import BeautifulSoup as bs"
   ]
  },
  {
   "cell_type": "code",
   "execution_count": null,
   "metadata": {
    "collapsed": true
   },
   "outputs": [],
   "source": [
    "ck_list = []\n",
    "for pg in range(1,72):\n",
    "    URL = 'https://ck101.com/forum-3599-{}.html'\n",
    "        \n",
    "    \n",
    "    custom_headers = {\n",
    "        'user-agent':'googlebot',\n",
    "        'cookie':'__cfduid=d95614d4185e1d0c44698789eef4efffe1512119186; Lre7_9bf0_saltkey=W6A96PEz; Lre7_9bf0_lastvisit=1512115586; izDl=1; datetime=121; viewthread_datetime=121; times=111; viewthread_times=2; Lre7_9bf0_viewid=tid_4248691; Lre7_9bf0_visitedfid=3599D3411; Lre7_9bf0_forum_lastvisit=D_3595_1512119272D_3599_1512134843; Lre7_9bf0_lastact=1512134845%09home.php%09misc; _gat=1; _gat_n_ga=1; _gat_type=1; __asc=e50081e31601242a7f343cbf874; __auc=8448be151601153d516f517951f; _gat_UA-79293900-3=1; _gat_all_ga=1; _gat_allvip_ga=1; _gat_ckad=1; _ceg.s=p0ab6u; _ceg.u=p0ab6u; _ga=GA1.2.2063441936.1512119194; _gid=GA1.2.1333542102.1512119194'\n",
    "        \n",
    "    }\n",
    "    resp = requests.get(URL.format(pg),headers =custom_headers)\n",
    "    #resp = requests.get(URL,headers =custom_headers)\n",
    "    soup = BeautifulSoup(resp.text,'html5lib')\n",
    "    for item in range(0,len(soup.select('div.blockTitle > a'))):#自動抓筆數,\n",
    "        urls = soup.select('div.blockTitle > a')[item]['href']\n",
    "        ck_list.append(urls)\n",
    "with open(\"./ck_url_all.text\", 'w') as f:\n",
    "    f.write(json.dumps(ck_list))\n",
    "    f.close()\n",
    "len(ck_list)"
   ]
  },
  {
   "cell_type": "code",
   "execution_count": 17,
   "metadata": {},
   "outputs": [
    {
     "name": "stdout",
     "output_type": "stream",
     "text": [
      "共耗時2.596168279647827秒\n"
     ]
    }
   ],
   "source": [
    "start_time = time.time()\n",
    "raw_url = json.load(open('./ck_url_all.text'))\n",
    "ck101_list = []\n",
    "for record in range(0,2):\n",
    "    URLC = raw_url[record]\n",
    "    custom_headers = {\n",
    "    \"cookie\":\"__cfduid=dd491bba5f5d8bad07405db0f32d4ee2e1512308234; Lre7_9bf0_saltkey=BCUDDfDA; Lre7_9bf0_lastvisit=1512304634; Lre7_9bf0_visitedfid=3599; Lre7_9bf0_sendmail=1; __gads=ID=49c1bdd4a7011c55:T=1512308235:S=ALNI_May0uT4OEFJTyrkYHVI2Mj15m-XwA; izDl=1; Lre7_9bf0_referer=https%3A%2F%2Fck101.com%2Fforum.php%3Fmod%3Dviewthread%26tid%3D3711966%26extra%3Dpage%253D1%2526filter%253Dtypeid%2526typeid%253D3616%2526typeid%253D3616; Lre7_9bf0_ulastactivity=1512308277%7C0; Lre7_9bf0_auth=0cfcxvp6%2FR%2B1SltgsmI7jfNZFxF7A6JWVE5Q%2FqnjRy8ercNlLJ5ah5wuKszelZWcfI6cLtBVe1Dw6OnIfE37G1fXyUc2; Lre7_9bf0_lastcheckfeed=1408052%7C1512308277; _ck101_client=164d4958-68b1-44af-a2f4-97fcd5462246; Lre7_9bf0_lip=111.248.66.57%2C1512308277; _gat=1; _gat_n_ga=1; _gat_UA-79293900-3=1; _gat_all_ga=1; _gat_allvip_ga=1; datetime=123; _gat_ckad=1; _gat_piypa=1; Lre7_9bf0_forum_lastvisit=D_3595_1512308304D_3599_1512308307; times=11; _gat_list=1; Lre7_9bf0_viewid=tid_4065241; __asc=db89ab271601c985caa7e908f26; __auc=db89ab271601c985caa7e908f26; Lre7_9bf0_lastact=1512308316%09home.php%09spacecp; Lre7_9bf0_checkpm=1; crtg_rta=; _gat_t=1; _gat_e=1; _ceg.s=p0e0kd; _ceg.u=p0e0kd; Lre7_9bf0_smile=1D1; _ga=GA1.2.1399053285.1512308235; _gid=GA1.2.879938172.1512308235; co-piypa_pv_ad_counter=2; _td=e946f065-18d1-482f-b029-82bba90b9ff4\",\n",
    "    \"user-agent\":\"Mozilla/5.0 (Windows NT 10.0; Win64; x64) AppleWebKit/537.36 (KHTML, like Gecko) Chrome/62.0.3202.94 Safari/537.36\"\n",
    "    }   \n",
    "    resp = requests.get(URLC,headers =custom_headers)\n",
    "    soup = BeautifulSoup(resp.text,'lxml')\n",
    "\n",
    "    rcontent = []     \n",
    "    rid = re.findall(\"http://.+/thread-(.+)-.-.+.html\",resp.text)[0]        \n",
    "    for rep in range(1, len(soup.select('div.pgt > div.pg > a'))+2):\n",
    "        URLR = 'https://ck101.com/thread-{}-{}-1.html'\n",
    "        respr = requests.get(URLR.format(rid,rep),headers =custom_headers)\n",
    "        soupr = BeautifulSoup(respr.text,'lxml')\n",
    "\n",
    "        for i in range(1,len(soupr.select_one(\"#postlist\").select(\".plhin\"))):\n",
    "            contentr = {}\n",
    "            reply = soupr.select_one(\"#postlist\").select(\".plhin\")\n",
    "            contentr['author'] = reply[i].select_one(\".authorName\").text\n",
    "            contentr['content'] = reply[i].select_one(\"table\").select_one(\"table\").select_one(\"td\").text.replace(\" \",\"\").strip()\n",
    "            contentr['floor'] = reply[i].select_one(\"ul\").select_one(\"li\").select_one(\"a\").text.replace(\"\\n\",\"\").strip()\n",
    "            contentr['date'] = re.findall('發表於 (.+) .+',reply[i].select_one(\".postDateLine\").text)\n",
    "            contentr['time'] = re.findall('發表於 .+ (.+)',reply[i].select_one(\".postDateLine\").text)\n",
    "            rcontent.append(contentr)\n",
    "            \n",
    "    ck101 = {}\n",
    "    ck101[\"id\"] = re.findall(\"http://.+/thread-(.+).html\",resp.text)[0]\n",
    "\n",
    "    ck101[\"title\"] = soup.select(\"h1\")[0].text\n",
    "    ck101[\"category\"] = soup.select(\"h2\")[2].text\n",
    "    ck101[\"author\"] = soup.select(\"author > a\")[0].text\n",
    "    ck101[\"date\"] = re.findall('發表於 (.+) ',soup.select(\"div.numBox > span\")[0].text)\n",
    "    ck101[\"time\"] = re.findall('發表於 .+ (.+)',soup.select(\"div.numBox > span\")[0].text)\n",
    "    ck101[\"forum\"] = \"自行車專區\"\n",
    "    ck101[\"web\"] = \"ck101\"\n",
    "    ck101[\"url\"] = URLC\n",
    "    ck101[\"reply_count\"] = soup.select(\"span.replayNum\")[0].text\n",
    "    ck101[\"click_count\"] = soup.select(\"span.viewNum\")[0].text\n",
    "    ck101[\"content\"] = soup.select(\"td.t_f\")[0].text\n",
    "    ck101[\"reply_content\"] = rcontent\n",
    "\n",
    "    ck101_list.append(ck101)\n",
    "#news[\"reply_content\"] = content\n",
    "with open(\"./ck101.json\", 'w') as f:\n",
    "    f.write(json.dumps(ck101_list, ensure_ascii=False))\n",
    "    f.close()\n",
    "end_time = time.time()\n",
    "\n",
    "print(\"共耗時\" + str(end_time-start_time) + \"秒\")\n"
   ]
  },
  {
   "cell_type": "code",
   "execution_count": null,
   "metadata": {
    "collapsed": true
   },
   "outputs": [],
   "source": []
  }
 ],
 "metadata": {
  "kernelspec": {
   "display_name": "Python 3",
   "language": "python",
   "name": "python3"
  },
  "language_info": {
   "codemirror_mode": {
    "name": "ipython",
    "version": 3
   },
   "file_extension": ".py",
   "mimetype": "text/x-python",
   "name": "python",
   "nbconvert_exporter": "python",
   "pygments_lexer": "ipython3",
   "version": "3.6.2"
  }
 },
 "nbformat": 4,
 "nbformat_minor": 2
}
