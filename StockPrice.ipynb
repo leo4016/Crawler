{
 "cells": [
  {
   "cell_type": "markdown",
   "metadata": {},
   "source": [
    "# 爬股價程式"
   ]
  },
  {
   "cell_type": "code",
   "execution_count": 6,
   "metadata": {
    "scrolled": false
   },
   "outputs": [
    {
     "name": "stdout",
     "output_type": "stream",
     "text": [
      "Enter the Number: 0050\n",
      "Enter the Start year: 2010\n",
      "Enter the End year: 2020\n",
      "爬取失敗\n"
     ]
    }
   ],
   "source": [
    "import requests\n",
    "import pandas as pd  \n",
    "import time\n",
    "from random import randint\n",
    "\n",
    "def StockPrice(StockNumber,StartYear,EndYear):\n",
    "    try:\n",
    "        #創建時間list----------------------------------------------------------------------------------------------------------\n",
    "        month1=[\"01\",\"02\",\"03\",\"04\",\"05\",\"06\",\"07\",\"08\",\"09\",\"10\",\"11\",\"12\"]\n",
    "        datelist = []\n",
    "        for year in range(StartYear,EndYear+1):\n",
    "            for x in month1:\n",
    "                datelist.append(str(year)+x+'01')\n",
    "        \n",
    "        \n",
    "        #爬蟲正式碼----------------------------------------------------------------------------------------------------------\n",
    "        headers = {\n",
    "        'User-Agent':'Mozilla/5.0 (Windows NT 10.0; Win64; x64) AppleWebKit/537.36 (KHTML, like Gecko) Chrome/86.0.4240.198 Safari/537.36',\n",
    "    \n",
    "        }         \n",
    "        url = 'https://www.twse.com.tw/exchangeReport/STOCK_DAY?response=html&date={}&stockNo={}'\n",
    "        for page in datelist:\n",
    "            r = requests.get(url.format(page,StockNumber), headers = headers)\n",
    "            data = pd.read_html(r.text,header=1)[0]\n",
    "            data.to_excel(r\"C:\\Users\\leo\\Desktop\\股價\\{}.xlsx\".format(page)) \n",
    "            time.sleep(randint(5,15))\n",
    "        print(\"爬取成功\")\n",
    "    except:\n",
    "        print(\"爬取失敗\")\n",
    "#輸入1.股票號碼2.開始年3.結束年\n",
    "StockNumber,StartYear,EndYear = input(\"Enter the Number: \"), input(\"Enter the Start year: \") , input(\"Enter the End year: \")\n",
    "StockPrice(StockNumber,int(StartYear),int(EndYear))\n"
   ]
  },
  {
   "cell_type": "markdown",
   "metadata": {},
   "source": [
    "# 寫進sqlite3 未完成"
   ]
  },
  {
   "cell_type": "code",
   "execution_count": null,
   "metadata": {
    "collapsed": true
   },
   "outputs": [],
   "source": [
    "import sqlite3\n",
    "conn = sqlite3.connect('test.sqlite3')\n",
    "df.to_sql('daily_price', conn, if_exists= 'replace')"
   ]
  },
  {
   "cell_type": "code",
   "execution_count": null,
   "metadata": {
    "collapsed": true
   },
   "outputs": [],
   "source": []
  }
 ],
 "metadata": {
  "kernelspec": {
   "display_name": "Python 3",
   "language": "python",
   "name": "python3"
  },
  "language_info": {
   "codemirror_mode": {
    "name": "ipython",
    "version": 3
   },
   "file_extension": ".py",
   "mimetype": "text/x-python",
   "name": "python",
   "nbconvert_exporter": "python",
   "pygments_lexer": "ipython3",
   "version": "3.6.2"
  }
 },
 "nbformat": 4,
 "nbformat_minor": 2
}
