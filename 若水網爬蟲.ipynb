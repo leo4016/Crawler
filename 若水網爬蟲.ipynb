{
 "cells": [
  {
   "cell_type": "code",
   "execution_count": 9,
   "metadata": {
    "collapsed": true
   },
   "outputs": [],
   "source": [
    "import requests\n",
    "from bs4 import BeautifulSoup\n",
    "import json\n",
    "list = []\n",
    "for pg in range(1,4):\n",
    "    URL = 'https://www.amazon.co.jp/s/?rh=n%3A2016926051%2Cn%3A%212016927051%2Cn%3A2221079051%2Cn%3A2221070051%2Cn%3A2221099051%2Cn%3A2221130051&page={}'\n",
    "    resp = requests.get(URL.format(pg))\n",
    "    soup = BeautifulSoup(resp.text,'html5lib')\n",
    "    q = soup.select('.a-size-base') \n",
    "    for x in range(0,len(q)):\n",
    "        title = soup.select('.a-size-base')[x]\n",
    "        price = soup.select('span.a-price-whole')[x]\n",
    "        review = soup.select('span.a-icon-alt')[x]\n",
    "        #print('品名:'+title.text+'  價錢'+price.text)\n",
    "        final = '品名:'+title.text+'  價錢'+price.text + ' 評價'+review.text\n",
    "        list.append(final)\n",
    "\n",
    "        with open('amazon.text','w') as f:\n",
    "            f.write(json.dumps(list))\n",
    "               "
   ]
  },
  {
   "cell_type": "code",
   "execution_count": 10,
   "metadata": {
    "scrolled": true
   },
   "outputs": [
    {
     "name": "stdout",
     "output_type": "stream",
     "text": [
      "['品名:検索結果 34,567 のうち 1-48件 シューズ＆バッグ : メンズ : シューズ : スポーツ : ランニング  價錢3,158 評價プライム', '品名:[アシックス] ランニングシューズ JOG 100 2  (現行モデル)  價錢5,546 評價5つ星のうち 4.3', '品名:新番 スポーツ軽量 クッション性 カジュアル デイリー トラベルランニングシューズ カジュアル スニーカー通勤 通学 日常着用メンズ レディース  價錢2,199 評價プライム', '品名:[アディダス] ランニングシューズ Galaxy 3  價錢4,285 評價5つ星のうち 3.9', '品名:[アシックス] ランニングシューズ GEL-KAYANO 24 TJG957  價錢3,130 評價プライム', '品名:[ニューバランス] ランニングシューズ  MR360 2E  價錢7,680 評價5つ星のうち 4.4', '品名:[アシックス] ランニングシューズ GT-2000 NEW YORK 5  價錢11,500 評價プライム', '品名:Vmeto ランニングシューズ メンズ レディース 軽量 通気 スポーツシューズ ウォーキング スニーカー  價錢16,740 評價5つ星のうち 5', '品名:Ahicoランニングシューズ 17年秋冬 第３世代 軽量スニーカー エアクッション  價錢3,920 評價プライム', '品名:[アシックス] ランニングシューズ GT-2000 NEW YORK 5-SuperWide(現行モデル)  價錢6,325 評價5つ星のうち 4.5', '品名:Looka 新番 スポーツ軽量 クッション性 カジュアル デイリー トラベルランニングシューズ カジュアル スニーカー通勤 通学 日常着用メンズ レディース  價錢7,299 評價プライム', '品名:[アディダス]  ランニングシューズ GLX 3 WIDE U(現行モデル)  價錢13,824 評價5つ星のうち 4.3', '品名:[アシックス] ランニングシューズ TARTHERZEAL 5   (現行モデル)  價錢1,500 評價プライム', '品名:[アシックス] ランニングシューズ TARTHERZEAL 5-wide  價錢2,630 評價5つ星のうち 4', '品名:United Prime ランニングシューズ 結ばない靴紐 Keep running 2018 AWモデル  價錢2,199 評價プライム', '品名:[テスラ] ランニングシューズ JP1702TF-X700  價錢2,799 評價5つ星のうち 3.8', '品名:[アシックス] ランニングシューズ GEL-KAYANO 23  (旧モデル)  價錢7,450 評價プライム', '品名:[アディダス]  ランニングシューズ adiZERO feather RK 2(現行モデル)  價錢13,824 評價5つ星のうち 4.4', '品名:[アディダス]  ランニングシューズ adiZERO takumi sen BOOST 3(現行モデル)  價錢2,099 評價プライム', '品名:[アシックス] ランニングシューズ GEL-KAYANO 24-SW TJG958  價錢2,799 評價5つ星のうち 3.9', '品名:[ミズノ] ランニングシューズ ウエーブライダー 20 [メンズ] (旧モデル)  價錢3,734 評價プライム', '品名:[アシックス] ランニングシューズ LYTERACER TS 6  (現行モデル)  價錢5,395 評價5つ星のうち 4.5', '品名:[アディダス]  ランニングシューズ adiZERO japan BOOST 3(現行モデル)  價錢8,239 評價プライム', '品名:[アシックス] ランニングシューズ LYTERACER RS 5  (現行モデル)  價錢15,120 評價5つ星のうち 4.5', '品名:[スポルディング] ランニングシューズ 通勤 通学 JIN 2010  價錢8,314 評價プライム', '品名:[アシックス] ランニングシューズ GEL-NIMBUS 19  (現行モデル)  價錢15,120 評價5つ星のうち 4.1', '品名:[アシックス] ランニングシューズ DynaFlyte 2  (現行モデル)  價錢999 評價プライム', '品名:[アディダス]  ランニングシューズ Duramo 8(現行モデル)  價錢2,399 評價5つ星のうち 3.5', '品名:Hacoo ウオーキングシューズ メンズ クッション性 カジュアル スポーツ 軽量 通気 日常着用 室内 ジム トラベルランニングシューズ ランニングシューズ スポーツシューズ 靴 スニーカー 黒 ブラック グレー ブルー...  價錢2,980 評價プライム', '品名:日本国内正規品 adidas アディダス クラウドフォームバルクリーン[CLOUDFOAM VALCLEAN] ホワイト/ホワイト/グリーン AW3914 29.5cm  價錢7,982 評價5つ星のうち 3.9', '品名:[アシックス] ランニングシューズ GEL-NIMBUS 19-SW  (現行モデル)  價錢16,740 評價プライム', '品名:(メーレンヒューズ)Maylen Hughes スポーツ ランニングシューズ 軽量 通気 ウォーキング 男女通用  價錢5,378 評價5つ星のうち 4.2', '品名:[ニューバランス] ランニングシューズ FUEL CORE RUSH (フューエル コア ラッシュ) MRUSH メンズ (現行モデル)  價錢9,709 評價プライム', '品名:[スポルディング] ランニングシューズ 通勤 通学 JIN 2550  價錢8,990 評價5つ星のうち 4.6', '品名:Feetmat 新番 スポーツ軽量 クッション性 カジュアル デイリー トラベルランニングシューズ カジュアル スニーカー通勤 通学 日常着用メンズ レディース  價錢17,820 評價プライム', '品名:[アディダス]  ランニングシューズ adiZERO takumi ren BOOST 3(現行モデル)  價錢11,220 評價5つ星のうち 3.9', '品名:[アシックス] ランニングシューズ LYTERACER TS 6-wide  (現行モデル)  價錢16,740 評價プライム', '品名:[アシックス] ランニングシューズ LADY GEL-KAYANO 24 TJG758  價錢7,745 評價5つ星のうち 4.7', '品名:[ニューバランス] ランニングシューズ M480 4E  價錢13,932 評價プライム', '品名:[ニューバランス] ランニングシューズ M1040 メンズ (現行モデル)  價錢6,350 評價5つ星のうち 4.5', '品名:[アンダーアーマー] ランニングシューズ UA DASH RN 2 4E SYN 1297556  價錢10,584 評價プライム', '品名:[アシックス] ランニングシューズ GELFEATHER GLIDE 4 TJR455  價錢9,390 評價5つ星のうち 4.2', '品名:ナイキ(NIKE) エア ズーム スピード ライバル 6 880553  價錢15,660 評價プライム', '品名:[スポルディング] ランニングシューズ 通勤 通学 JIN 2540  價錢6,399 評價5つ星のうち 4.7', '品名:[アンダーアーマー] トレーニングシューズ コミット TR (メンズ)  價錢10,800 評價プライム', '品名:ランニングシューズ メンズ スニーカー レディース カジュアルシューズ ワーキング 男女兼用\\u3000(アコミ) Acomi  價錢2,725 評價5つ星のうち 4.1', '品名:[ミズノ] ランニングシューズ ウエーブライダー 20 SW [メンズ] (旧モデル)  價錢3,880 評價プライム', \"品名:[オン] On ランニングシューズ Cloud Men's  價錢8,999 評價5つ星のうち 4.1\", '品名:[アディダス]  ランニングシューズ adiZERO japan BOOST 3(現行モデル)  價錢17,172 評價プライム', '品名:検索結果 34,567 のうち 49-96件 シューズ＆バッグ : メンズ : シューズ : スポーツ : ランニング  價錢1,980 評價プライム', '品名:(テスラ)TESLA 男女共用 メッシュ ランニングシューズ 室内履き替え 上履き L512 / L513  價錢2,980 評價5つ星のうち 4', '品名:[アシックス] ランニングシューズ LYTERACER RS 5-wide  價錢6,399 評價プライム', '品名:[サロモン] SALOMON トレッキングシューズ XA PRO 3D ゴアテックス 防水 登山靴  價錢10,800 評價5つ星のうち 4.3', '品名:[ニューバランス] ランニングシューズ FUEL CORE SONIC (フューエル コア ソニック) MSONI メンズ (現行モデル)  價錢10,009 評價プライム', '品名:[アシックス] ランニングシューズ TARTHER JAPAN  價錢57,335 評價5つ星のうち 4.1', '品名:[アシックス] ランニングシューズ GEL-CONTEND 4  (現行モデル)  價錢8,999 評價プライム', '品名:(テスラ)TESLAランニングシューズ T320 / T330 / L610  價錢12,960 評價5つ星のうち 4.5', '品名:[アシックス] ランニングシューズ GT-1000 5 (旧モデル)  價錢9,456 評價プライム', '品名:[アシックス] ランニングシューズ DynaFlyte  (旧モデル)  價錢17,280 評價5つ星のうち 4.5', '品名:[アシックス] ランニングシューズ GELFEATHER GLIDE 4-wide TJR456  價錢4,840 評價プライム', '品名:(780円靴下を贈る)GoldenSelect アップグレード 新しい色! 新番 スポーツ軽量 クッション性 カジュアル デイリー トラベルランニングシューズ カジュアル スニーカー通勤 通学 メンズ レディース 24.5CM...  價錢7,344 評價5つ星のうち 4.4', '品名:[ミズノ] ランニングシューズ ウェーブ ソニック   (現行モデル)  價錢2,590 評價プライム', '品名:(ニコラス)メンズ ランニングシューズ スニーカー (17秋冬モデル)  價錢3,290 評價5つ星のうち 4', '品名:ナイキ(NIKE) エア マックス ダイナシティ 2（ブラック/ホワイト/クールグレー） 852430-009  價錢5,977 評價プライム', '品名:ROEGRE ランニングシューズメンズ\\u3000レディース両用 超軽量 通気 スポーツシューズ男女通用  價錢9,623 評價5つ星のうち 4.3', '品名:[ニューバランス] ランニングシューズ FUEL CORE COAST (フューエル コア コースト) MCOAS メンズ (現行モデル)  價錢4,918 評價プライム', '品名:ZXCP 新番 スポーツ軽量 クッション性 カジュアル デイリー トラベルランニングシューズ カジュアル スニーカー通勤 通学 日常着用メンズ レディース  價錢11,664 評價5つ星のうち 4.2', '品名:[アシックス] ランニングシューズ GEL-INFINI 2  (現行モデル)  價錢7,776 評價プライム', '品名:[アディダス]  ランニングシューズ adiZERO japan BOOST 3 WIDE(現行モデル)  價錢12,960 評價5つ星のうち 4.1', '品名:[ミズノ] ランニングシューズ ラッシュアップ 3 [メンズ] (現行モデル)  價錢1,580 評價プライム', '品名:(チェリーレッド) CherryRed 新番 スポーツ軽量 クッション性 カジュアル デイリー トラベルランニングシューズ カジュアル スニーカー通勤 通学 日常着用メンズ レディース  價錢2,180 評價5つ星のうち 3.5', '品名:[ニューバランス] ランニングシューズ M1040 メンズ (現行モデル)  價錢5,718 評價プライム', '品名:スニーカー ランニングシューズ スポーツ カジュアル 軽量 クッション性 日常着用 メンズ レディース  價錢10,235 評價5つ星のうち 3.9', '品名:[ミズノ] ランニングシューズ ウエーブエンペラージャパン 2 [メンズ] (現行モデル)  價錢3,347 評價プライム', '品名:[アシックス] ランニングシューズ SKYSENSOR GLIDE 4  (現行モデル)  價錢4,298 評價5つ星のうち 4.6', '品名:[アディダス]  ランニングシューズ Mana BOUNCE knit(現行モデル)  價錢9,906 評價プライム', '品名:[ニューバランス] ランニングシューズ M1500 メンズ (旧モデル)  價錢2,499 評價5つ星のうち 4.6', '品名:[アシックス] ランニングシューズ GT-1000 5-SuperWide  價錢2,699 評價プライム', '品名:[ブルックス] BROOKS メンズ ランニングシューズ ゴースト9  價錢2,767 評價5つ星のうち 4.4', '品名:[アディダス] ランニングシューズ Galaxy 2 4E AQ2896  價錢8,499 評價プライム', '品名:[アシックス] ランニングシューズ GEL-INFINI 2-wide  (現行モデル)  價錢2,699 評價プライム', '品名:[ミズノ] ランニングシューズ ウエーブエアロ 16 [メンズ]  價錢2,999 評價5つ星のうち 4.5', '品名:[アシックス] ランニングシューズ TARTHERZEAL 6 TJR291 メンズ  價錢4,486 評價プライム', '品名:[ナイキ] NIKE スニーカー FREE RN  價錢8,100 評價5つ星のうち 4', '品名:[アシックス] ランニングシューズ GEL-DS TRAINER 22  (現行モデル)  價錢9,396 評價プライム', '品名:(ナイキ) NIKE ナイキ エア ズーム スピード ライバル 6  價錢15,660 評價5つ星のうち 4.4', '品名:[リーボック] ランニングシューズ SUBLITE AUTHENTIC 4.0 AVP65  價錢3,657 評價プライム', '品名:[プーマ]  ランニングシューズ SPEED LITE (旧モデル)  價錢7,452 評價5つ星のうち 3.6', '品名:[アディダス]  ランニングシューズ GLX 3 WIDE M(現行モデル)  價錢1,580 評價プライム', '品名:アシックス(asics) メンズ レディース ジョグ100 2 TJG138 1612 紳士 ウィメンズ 婦人  價錢2,380 評價5つ星のうち 3.9', '品名:スポーツ ランニングシューズ 男女兼用 軽量 通気 カジュアル シューズ スニーカー 滑り止め運動靴 ウォーキング 旅行 山登り 通学  價錢10,436 評價プライム', '品名:[アシックス] ランニングシューズ GEL-KAYANO 23-SuperWide  價錢14,040 評價5つ星のうち 4.3', '品名:[ミズノ] ランニングシューズ ウエーブエンペラー 2 [メンズ]   (現行モデル)  價錢2,380 評價プライム', '品名:[ナイキ] NIKE スニーカー AIR MAX INVIGOR  價錢2,580 評價5つ星のうち 4.4', '品名:ROEGRE ランニングシューズメンズ\\u3000レディース両用 超軽量 通気 スポーツシューズ\\u3000５色あり  價錢11,748 評價プライム', '品名:[ミズノ] ランニングシューズ ウエーブライダー 20 (W) [レディース] (旧モデル)  價錢18,360 評價5つ星のうち 2.9', '品名:[アシックス] ランニングシューズ GT-2000 NEW YORK 5-slim  價錢9,828 評價プライム', '品名:[アディダス]  ランニングシューズ adiZERO takumi ren BOOST 3 Wide(現行モデル)  價錢14,040 評價5つ星のうち 3.8']\n"
     ]
    }
   ],
   "source": [
    "print (list)"
   ]
  },
  {
   "cell_type": "code",
   "execution_count": 7,
   "metadata": {
    "collapsed": true
   },
   "outputs": [
    {
     "data": {
      "text/plain": [
       "['品名:検索結果 34,567 のうち 1-48件 シューズ＆バッグ : メンズ : シューズ : スポーツ : ランニング  價錢3,158',\n",
       " '品名:[アシックス] ランニングシューズ JOG 100 2  (現行モデル)  價錢5,546',\n",
       " '品名:新番 スポーツ軽量 クッション性 カジュアル デイリー トラベルランニングシューズ カジュアル スニーカー通勤 通学 日常着用メンズ レディース  價錢2,199',\n",
       " '品名:[アディダス] ランニングシューズ Galaxy 3  價錢4,285',\n",
       " '品名:[アシックス] ランニングシューズ GEL-KAYANO 24 TJG957  價錢3,130',\n",
       " '品名:[ニューバランス] ランニングシューズ  MR360 2E  價錢7,680',\n",
       " '品名:[アシックス] ランニングシューズ GT-2000 NEW YORK 5  價錢11,500',\n",
       " '品名:Vmeto ランニングシューズ メンズ レディース 軽量 通気 スポーツシューズ ウォーキング スニーカー  價錢16,740',\n",
       " '品名:Ahicoランニングシューズ 17年秋冬 第３世代 軽量スニーカー エアクッション  價錢3,920',\n",
       " '品名:[アシックス] ランニングシューズ GT-2000 NEW YORK 5-SuperWide(現行モデル)  價錢6,325',\n",
       " '品名:Looka 新番 スポーツ軽量 クッション性 カジュアル デイリー トラベルランニングシューズ カジュアル スニーカー通勤 通学 日常着用メンズ レディース  價錢7,299',\n",
       " '品名:[アディダス]  ランニングシューズ GLX 3 WIDE U(現行モデル)  價錢13,824',\n",
       " '品名:[アシックス] ランニングシューズ TARTHERZEAL 5   (現行モデル)  價錢1,500',\n",
       " '品名:[アシックス] ランニングシューズ TARTHERZEAL 5-wide  價錢2,630',\n",
       " '品名:United Prime ランニングシューズ 結ばない靴紐 Keep running 2018 AWモデル  價錢2,199',\n",
       " '品名:[テスラ] ランニングシューズ JP1702TF-X700  價錢2,799',\n",
       " '品名:[アシックス] ランニングシューズ GEL-KAYANO 23  (旧モデル)  價錢7,450',\n",
       " '品名:[アディダス]  ランニングシューズ adiZERO feather RK 2(現行モデル)  價錢13,824',\n",
       " '品名:[アディダス]  ランニングシューズ adiZERO takumi sen BOOST 3(現行モデル)  價錢2,099',\n",
       " '品名:[アシックス] ランニングシューズ GEL-KAYANO 24-SW TJG958  價錢2,799',\n",
       " '品名:[ミズノ] ランニングシューズ ウエーブライダー 20 [メンズ] (旧モデル)  價錢3,734',\n",
       " '品名:[アシックス] ランニングシューズ LYTERACER TS 6  (現行モデル)  價錢5,395',\n",
       " '品名:[アディダス]  ランニングシューズ adiZERO japan BOOST 3(現行モデル)  價錢8,239',\n",
       " '品名:[アシックス] ランニングシューズ LYTERACER RS 5  (現行モデル)  價錢15,120',\n",
       " '品名:[スポルディング] ランニングシューズ 通勤 通学 JIN 2010  價錢8,314',\n",
       " '品名:[アシックス] ランニングシューズ GEL-NIMBUS 19  (現行モデル)  價錢15,120',\n",
       " '品名:[アシックス] ランニングシューズ DynaFlyte 2  (現行モデル)  價錢999',\n",
       " '品名:[アディダス]  ランニングシューズ Duramo 8(現行モデル)  價錢2,399',\n",
       " '品名:Hacoo ウオーキングシューズ メンズ クッション性 カジュアル スポーツ 軽量 通気 日常着用 室内 ジム トラベルランニングシューズ ランニングシューズ スポーツシューズ 靴 スニーカー 黒 ブラック グレー ブルー...  價錢2,980',\n",
       " '品名:日本国内正規品 adidas アディダス クラウドフォームバルクリーン[CLOUDFOAM VALCLEAN] ホワイト/ホワイト/グリーン AW3914 29.5cm  價錢7,982',\n",
       " '品名:[アシックス] ランニングシューズ GEL-NIMBUS 19-SW  (現行モデル)  價錢16,740',\n",
       " '品名:(メーレンヒューズ)Maylen Hughes スポーツ ランニングシューズ 軽量 通気 ウォーキング 男女通用  價錢5,378',\n",
       " '品名:[ニューバランス] ランニングシューズ FUEL CORE RUSH (フューエル コア ラッシュ) MRUSH メンズ (現行モデル)  價錢9,709',\n",
       " '品名:[スポルディング] ランニングシューズ 通勤 通学 JIN 2550  價錢8,990',\n",
       " '品名:Feetmat 新番 スポーツ軽量 クッション性 カジュアル デイリー トラベルランニングシューズ カジュアル スニーカー通勤 通学 日常着用メンズ レディース  價錢17,820',\n",
       " '品名:[アディダス]  ランニングシューズ adiZERO takumi ren BOOST 3(現行モデル)  價錢11,220',\n",
       " '品名:[アシックス] ランニングシューズ LYTERACER TS 6-wide  (現行モデル)  價錢16,740',\n",
       " '品名:[アシックス] ランニングシューズ LADY GEL-KAYANO 24 TJG758  價錢7,745',\n",
       " '品名:[ニューバランス] ランニングシューズ M480 4E  價錢13,932',\n",
       " '品名:[ニューバランス] ランニングシューズ M1040 メンズ (現行モデル)  價錢6,350',\n",
       " '品名:[アンダーアーマー] ランニングシューズ UA DASH RN 2 4E SYN 1297556  價錢10,584',\n",
       " '品名:[アシックス] ランニングシューズ GELFEATHER GLIDE 4 TJR455  價錢9,390',\n",
       " '品名:ナイキ(NIKE) エア ズーム スピード ライバル 6 880553  價錢15,660',\n",
       " '品名:[スポルディング] ランニングシューズ 通勤 通学 JIN 2540  價錢6,399',\n",
       " '品名:[アンダーアーマー] トレーニングシューズ コミット TR (メンズ)  價錢10,800',\n",
       " '品名:ランニングシューズ メンズ スニーカー レディース カジュアルシューズ ワーキング 男女兼用\\u3000(アコミ) Acomi  價錢2,725',\n",
       " '品名:[ミズノ] ランニングシューズ ウエーブライダー 20 SW [メンズ] (旧モデル)  價錢3,880',\n",
       " \"品名:[オン] On ランニングシューズ Cloud Men's  價錢8,999\",\n",
       " '品名:[アディダス]  ランニングシューズ adiZERO japan BOOST 3(現行モデル)  價錢17,172',\n",
       " '品名:検索結果 34,567 のうち 97-144件 シューズ＆バッグ : メンズ : シューズ : スポーツ : ランニング  價錢8,990',\n",
       " '品名:[アディダス]  ランニングシューズ adiZERO takumi ren BOOST 3 Wide(現行モデル)  價錢16,740',\n",
       " '品名:Karido（カリド） ランニングシューズ メンズ レディース スポーツシューズ 通気性 日常運動 スニーカー  價錢1,300',\n",
       " '品名:(ナイキ) NIKE ナイキ エア ズーム スピード ライバル 6  價錢2,000',\n",
       " '品名:ナイキ(NIKE) レボリューション 3（ブラック/メタリックダークグレー/アンスラサイト） 819300-012  價錢4,990',\n",
       " '品名:[ホカ オネ オネ] HOKA ONE ONE ランニングシューズ M CLIFTON 4  價錢9,200',\n",
       " '品名:[ザ・ノース・フェイス] スニーカー Ultra Velocity NF51706  價錢3,510',\n",
       " '品名:[ニューバランス] ランニングシューズ Fresh Foam Zantev3 MZANT メンズ (旧モデル)  價錢21,434',\n",
       " '品名:[アシックス] ランニングシューズ fuzeX Rush  價錢17,815',\n",
       " '品名:[アシックス] ランニングシューズ TARTHERZEAL TS 4  (現行モデル)  價錢36,107',\n",
       " '品名:ナイキ エア マックス ダイナシティ 2 852430 003/アンスラサイト/メタリッククールグレー/ブラック  價錢10,595',\n",
       " '品名:[テスラ] スニーカー  JP1706TF-X800  價錢12,744',\n",
       " '品名:(ヤツル)ランニング シューズ 通気 軽量 ジョギング スポーツ シューズ スニーカー メンズ  價錢5,480',\n",
       " '品名:(ナイキ) NIKE ナイキ ズーム フライ  價錢12,650',\n",
       " '品名:[ロリングレー]ROEGRE メンズスポーツ ランニングシューズ 超軽量 ランニングシューズレディース\\u3000スポーツスニーカー男女通用\\u3000通気 春夏秋用 …  價錢4,589',\n",
       " '品名:[アンダーアーマー] UA BGS MICROG RAVE RN SYN  1301081  價錢13,165',\n",
       " '品名:[ミズノ] ランニングシューズ ウエーブエアロ 16 ワイド [メンズ]  價錢8,618',\n",
       " '品名:[アシックス] ランニングシューズ SKYSENSOR JAPAN  (現行モデル)  價錢14,040',\n",
       " '品名:スポーツ スニーカー ランニングシューズ ジョギング メンズ 超軽量 通気 日常着用  價錢4,990',\n",
       " '品名:[ニューバランス] ランニングシューズ FLASH (フラッシュ) MFLSH メンズ (現行モデル)  價錢9,720',\n",
       " '品名:[オン] ランニングシューズ クラウドフロー メンズ  價錢3,290',\n",
       " '品名:[アディダス]  ランニングシューズ Alpha BOUNCE RC(現行モデル)  價錢1,790',\n",
       " '品名:[ニューバランス] ランニングシューズ FUEL CORE COASTH (フューエル コア コーストH) MCOASH メンズ (現行モデル)  價錢2,490',\n",
       " '品名:アディダス スタンスミス adidas STAN SMITH ホワイト×グレー 日本国内正規品 S75075  價錢16,200',\n",
       " '品名:DUNLOP(ダンロップ) MAXRUN Light M204WP 防水 軽量 5E 幅広 マックスランライト メンズ スニーカー ランニング ウォーキング シューズ ジョギング  價錢29,000',\n",
       " '品名:[アシックス] ランニングシューズ TARTHERZEAL 6-wide TJR292 メンズ  價錢2,339',\n",
       " '品名:[アシックス] ランニングシューズ GEL-KAYANO 23-slim  價錢2,599',\n",
       " '品名:[アディダス]  ランニングシューズ adiZERO boston BOOST 2(現行モデル)  價錢4,405',\n",
       " '品名:[アシックス] ランニングシューズ GT-1000 6-SW  (現行モデル)  價錢7,344',\n",
       " '品名:[ワンミックス]OneMix Airエアランニングシューズ スニーカー アウトドア ジョキング スポーツシューズ メンズレディース  價錢10,800',\n",
       " '品名:[アシックス] ランニングシューズ GEL-KENUN  (現行モデル)  價錢14,580',\n",
       " '品名:[ニューバランス] ランニングシューズ Fresh Foam Zante(フレッシュ フォーム ザンテ) MZANT D (17秋冬モデル)  價錢12,899',\n",
       " '品名:crbelte メッシュ 編み込み ローカット スニーカー シューズ ランシュー メンズ 靴 ファッション ハイテク  價錢17,280',\n",
       " '品名:[アディダス]  ランニングシューズ Snova Glide BOOST 4(現行モデル)  價錢2,288',\n",
       " '品名:MERLIN 8cmUP メンズ カジュアル トールシューズ ランニングシューズ ウォーキングシューズ スポーツ  價錢2,888',\n",
       " '品名:ナイキ(NIKE) アルファ アダプト ジムサック BA5256  價錢3,990',\n",
       " '品名:[サロモン] SALOMON トレイルランニングシューズ XA PRO 3D  價錢7,245',\n",
       " '品名:ナイキ ダウンシフター 7 ユニバーシティレッド/ホワイト/タフレッド/ブラック 852459 601  價錢16,520',\n",
       " '品名:(ナイキ) ズーム フライ メンズ ランニング シューズ Nike Zoom Fly Breaking 2 Ice Blue 880848-401 [並行輸入品]  價錢16,524',\n",
       " '品名:[ミズノ] ランニングシューズ ミズノシンクロ SL2 [メンズ] (現行モデル)  價錢4,999',\n",
       " '品名:[ミズノ] ランニングシューズ ウエーブエアロ 15 [メンズ]   (旧モデル)  價錢8,629',\n",
       " '品名:(ニコラス) ランニングシューズ スニーカー 【エアクッション・タイプ】(17秋冬モデル)  價錢4,055',\n",
       " '品名:ナイキ(NIKE) ダウンシフター 7 4E（ホワイト/ピュアプラチナ） 852460-100  價錢7,992',\n",
       " '品名:[アシックス] ランニングシューズ RoadHawk FF TJG967  價錢14,190',\n",
       " '品名:ROEGRE ランニングシューズメンズ レディース両用 超軽量 通気 スポーツシューズ男女通用 5色あり  價錢15,099',\n",
       " '品名:[アディダス]  ランニングシューズ Aero BOUNCE RC(現行モデル)  價錢3,800',\n",
       " '品名:[ワンミックス]Onemix Air エアランニングシューズ メンズ レディース スニーカー アウトドア ジョキング スポーツシューズ  價錢4,000',\n",
       " '品名:[ニューバランス] ランニングシューズ FUEL CORE RAZAH (フューエル コア レーザー) MRZH メンズ (現行モデル)  價錢11,933',\n",
       " '品名:GUAYUT ランニングシューズ メンズ スニーカー スポーツシューズ ハイキング カジュアル ウォーキングシューズトラベル スリッポン 通気性 男靴 運動靴 旅行 通勤 通学 六色ぁり  價錢15,120']"
      ]
     },
     "execution_count": 7,
     "metadata": {},
     "output_type": "execute_result"
    }
   ],
   "source": [
    "d = json.load(open('amazon.text'))\n",
    "d"
   ]
  },
  {
   "cell_type": "code",
   "execution_count": 34,
   "metadata": {},
   "outputs": [
    {
     "name": "stdout",
     "output_type": "stream",
     "text": [
      "[<a href=\"indexs3.asp?A=%A7@%AA%CC&amp;textfield=ÅU¹Å\">ÅU¹Å</a>, <a href=\"indexs3.asp?A=%A5X%AA%A9%AA%C0&amp;textfield=¤¤°êªk¨î\">¤¤°êªk¨î</a>, <a href=\"indexs3.asp?A=%A7@%AA%CC&amp;textfield=³\\ÖH¥ú\">³\\ÖH¥ú</a>, <a href=\"indexs3.asp?A=%A5X%AA%A9%AA%C0&amp;textfield=®ý¦¿¤H¥Á\">®ý¦¿¤H¥Á</a>, <a href=\"indexs3.asp?A=%A7@%AA%CC&amp;textfield=ªL¬x®ä\">ªL¬x®ä</a>, <a href=\"indexs3.asp?A=%A5X%AA%A9%AA%C0&amp;textfield=¥_¨ÊÁp¦X\">¥_¨ÊÁp¦X</a>, <a href=\"indexs3.asp?A=%A7@%AA%CC&amp;textfield=±i¨°«G\">±i¨°«G</a>, <a href=\"indexs3.asp?A=%A5X%AA%A9%AA%C0&amp;textfield=¤¤«H\">¤¤«H</a>, <a href=\"indexs3.asp?A=%A7@%AA%CC&amp;textfield=(¤é)¶ø³¥«Å¤§\">(¤é)¶ø³¥«Å¤§</a>, <a href=\"indexs3.asp?A=%A5X%AA%A9%AA%C0&amp;textfield=¦¿¦è¤H¥Á\">¦¿¦è¤H¥Á</a>, <a href=\"indexs3.asp?A=%A7@%AA%CC&amp;textfield=®áªL\">®áªL</a>, <a href=\"indexs3.asp?A=%A5X%AA%A9%AA%C0&amp;textfield=¥_¨ÊÁp¦X\">¥_¨ÊÁp¦X</a>, <a href=\"indexs3.asp?A=%A7@%AA%CC&amp;textfield=(¬ü)µÜ©ù¯Ç¦h¡E¦]°òµÜ¨½/(¬ü)ÁÚ¥d¡E©ÒÃ¹ªù\">(¬ü)µÜ©ù¯Ç¦h¡E¦]°òµÜ¨½/(¬ü)ÁÚ¥d¡E©ÒÃ¹ªù</a>, <a href=\"indexs3.asp?A=%A5X%AA%A9%AA%C0&amp;textfield=¦¿¦è¤H¥Á\">¦¿¦è¤H¥Á</a>, <a href=\"indexs3.asp?A=%A7@%AA%CC&amp;textfield=·¨°ê¦w/§õªi/Íº¯qªÚ\">·¨°ê¦w/§õªi/Íº¯qªÚ</a>, <a href=\"indexs3.asp?A=%A5X%AA%A9%AA%C0&amp;textfield=¤¤«H\">¤¤«H</a>, <a href=\"indexs3.asp?A=%A7@%AA%CC&amp;textfield=(¬ü)¦w®R¡E¥v¸¦¯ý\">(¬ü)¦w®R¡E¥v¸¦¯ý</a>, <a href=\"indexs3.asp?A=%A5X%AA%A9%AA%C0&amp;textfield=¤¤¥¡½sÄ¶\">¤¤¥¡½sÄ¶</a>, <a href=\"indexs3.asp?A=%A7@%AA%CC&amp;textfield=(­^)¶ø§QºûÔÕ¡EµÜ®¦\">(­^)¶ø§QºûÔÕ¡EµÜ®¦</a>, <a href=\"indexs3.asp?A=%A5X%AA%A9%AA%C0&amp;textfield=¥_¨ÊÁp¦X\">¥_¨ÊÁp¦X</a>, <a href=\"indexs3.asp?A=%A7@%AA%CC&amp;textfield=(¿D)¦¶§Q¦w¡Eªü®á©_\">(¿D)¦¶§Q¦w¡Eªü®á©_</a>, <a href=\"indexs3.asp?A=%A5X%AA%A9%AA%C0&amp;textfield=¤¤«H\">¤¤«H</a>, <a href=\"indexs3.asp?A=%A7@%AA%CC&amp;textfield=Às­¸/¤ý¥Ã¿³\">Às­¸/¤ý¥Ã¿³</a>, <a href=\"indexs3.asp?A=%A5X%AA%A9%AA%C0&amp;textfield=²MµØ¤j¾Ç\">²MµØ¤j¾Ç</a>, <a href=\"indexs3.asp?A=%A7@%AA%CC&amp;textfield=(¬ü)¤j½Ã¡Eªi®æ\">(¬ü)¤j½Ã¡Eªi®æ</a>, <a href=\"indexs3.asp?A=%A5X%AA%A9%AA%C0&amp;textfield=¦¿¦è¤H¥Á\">¦¿¦è¤H¥Á</a>, <a href=\"indexs3.asp?A=%A7@%AA%CC&amp;textfield=¥Ó½áº®\">¥Ó½áº®</a>, <a href=\"indexs3.asp?A=%A5X%AA%A9%AA%C0&amp;textfield=·s¬P\">·s¬P</a>, <a href=\"indexs3.asp?A=%A7@%AA%CC&amp;textfield=(¬ü)³ì¯Ç´Ë¡E´IÄõ§JªL\">(¬ü)³ì¯Ç´Ë¡E´IÄõ§JªL</a>, <a href=\"indexs3.asp?A=%A5X%AA%A9%AA%C0&amp;textfield=¦¿¦è¤H¥Á\">¦¿¦è¤H¥Á</a>, <a href=\"indexs3.asp?A=%A7@%AA%CC&amp;textfield=§dª÷°{\">§dª÷°{</a>, <a href=\"indexs3.asp?A=%A5X%AA%A9%AA%C0&amp;textfield=¤H¥Á¶l¹q\">¤H¥Á¶l¹q</a>, <a href=\"indexs3.asp?A=%A7@%AA%CC&amp;textfield=§õ¥ÃµØ/¤ý«ä³¥\">§õ¥ÃµØ/¤ý«ä³¥</a>, <a href=\"indexs3.asp?A=%A5X%AA%A9%AA%C0&amp;textfield=²MµØ¤j¾Ç\">²MµØ¤j¾Ç</a>, <a href=\"indexs3.asp?A=%A7@%AA%CC&amp;textfield=³Ð«È¸Û«~/¼B´fªY/©s¥O¤@\">³Ð«È¸Û«~/¼B´fªY/©s¥O¤@</a>, <a href=\"indexs3.asp?A=%A5X%AA%A9%AA%C0&amp;textfield=¥_¨Ê§Æ±æ¹q¤l\">¥_¨Ê§Æ±æ¹q¤l</a>, <a href=\"indexs3.asp?A=%A7@%AA%CC&amp;textfield=Áú¤p¨}\">Áú¤p¨}</a>, <a href=\"indexs3.asp?A=%A5X%AA%A9%AA%C0&amp;textfield=¤¤°êÅK¹D\">¤¤°êÅK¹D</a>, <a href=\"indexs3.asp?A=%A7@%AA%CC&amp;textfield=±æº³ºa/±æº³¶Q\">±æº³ºa/±æº³¶Q</a>, <a href=\"indexs3.asp?A=%A5X%AA%A9%AA%C0&amp;textfield=¤H¥Á¶l¹q\">¤H¥Á¶l¹q</a>, <a href=\"indexs3.asp?A=%A7@%AA%CC&amp;textfield=¤è§Q°ê\">¤è§Q°ê</a>, <a href=\"indexs3.asp?A=%A5X%AA%A9%AA%C0&amp;textfield=¤Æ¾Ç¤u·~\">¤Æ¾Ç¤u·~</a>, <a href=\"indexs3.asp?A=%A7@%AA%CC&amp;textfield=(¬ü)®æ¹p¿A/(¬ü)°¨¹F¤Ò\">(¬ü)®æ¹p¿A/(¬ü)°¨¹F¤Ò</a>, <a href=\"indexs3.asp?A=%A5X%AA%A9%AA%C0&amp;textfield=¤H¥Á¶l¹q\">¤H¥Á¶l¹q</a>, <a href=\"indexs3.asp?A=%A7@%AA%CC&amp;textfield=(­^)§J¨½´µ¡E§B¬dº¸\">(­^)§J¨½´µ¡E§B¬dº¸</a>, <a href=\"indexs3.asp?A=%A5X%AA%A9%AA%C0&amp;textfield=¤H¥Á¶l¹q\">¤H¥Á¶l¹q</a>, <a href=\"indexs3.asp?A=%A7@%AA%CC&amp;textfield=§õ¹ç\">§õ¹ç</a>, <a href=\"indexs3.asp?A=%A5X%AA%A9%AA%C0&amp;textfield=¤H¥Á¶l¹q\">¤H¥Á¶l¹q</a>, <a href=\"indexs3.asp?A=%A7@%AA%CC&amp;textfield=¿½¦t\">¿½¦t</a>, <a href=\"indexs3.asp?A=%A5X%AA%A9%AA%C0&amp;textfield=²MµØ¤j¾Ç\">²MµØ¤j¾Ç</a>, <a href=\"indexs3.asp?A=%A7@%AA%CC&amp;textfield=³¯§f¬w\">³¯§f¬w</a>, <a href=\"indexs3.asp?A=%A5X%AA%A9%AA%C0&amp;textfield=²MµØ¤j¾Ç\">²MµØ¤j¾Ç</a>, <a href=\"indexs3.asp?A=%A7@%AA%CC&amp;textfield=§d«p¯è\">§d«p¯è</a>, <a href=\"indexs3.asp?A=%A5X%AA%A9%AA%C0&amp;textfield=²MµØ¤j¾Ç\">²MµØ¤j¾Ç</a>, <a href=\"indexs3.asp?A=%A7@%AA%CC&amp;textfield=¥T§Q±j\">¥T§Q±j</a>, <a href=\"indexs3.asp?A=%A5X%AA%A9%AA%C0&amp;textfield=¤¤°ê¯¼Â´\">¤¤°ê¯¼Â´</a>, <a href=\"indexs3.asp?A=%A7@%AA%CC&amp;textfield=°­¨¦¤u§@«Ç¡D¤ý°¶\">°­¨¦¤u§@«Ç¡D¤ý°¶</a>, <a href=\"indexs3.asp?A=%A5X%AA%A9%AA%C0&amp;textfield=¤¤«H\">¤¤«H</a>, <a href=\"indexs3.asp?A=%A7@%AA%CC&amp;textfield=(¬ü)·ç¶©\">(¬ü)·ç¶©</a>, <a href=\"indexs3.asp?A=%A5X%AA%A9%AA%C0&amp;textfield=¤¤°êµØ¹´\">¤¤°êµØ¹´</a>, <a href=\"bookdata.asp?NO=C93C174001\"><img border=\"0\" height=\"100\" src=\"image/book/C93C174001.jpg\" width=\"80\"/></a>, <a href=\"bookdata.asp?NO=C95C17B002\"><img border=\"0\" height=\"100\" src=\"image/book/C95C17B002.jpg\" width=\"80\"/></a>, <a href=\"bookdata.asp?NO=J81C17A001\"><img border=\"0\" height=\"100\" src=\"image/book/J81C17A001.jpg\" width=\"80\"/></a>, <a href=\"bookdata.asp?NO=Q17C17B001\"><img border=\"0\" height=\"100\" src=\"image/book/Q17C17B001.jpg\" width=\"80\"/></a>, <a href=\"bookdata.asp?NO=G79C17B001\"><img border=\"0\" height=\"100\" src=\"image/book/G79C17B001.jpg\" width=\"80\"/></a>, <a href=\"bookdata.asp?NO=J97C17B001\"><img border=\"0\" height=\"100\" src=\"image/book/J97C17B001.jpg\" width=\"80\"/></a>, <a href=\"bookdata.asp?NO=F27C17B003\"><img border=\"0\" height=\"100\" src=\"image/book/F27C17B003.jpg\" width=\"80\"/></a>, <a href=\"bookdata.asp?NO=F27C17A008\"><img border=\"0\" height=\"100\" src=\"image/book/F27C17A008.jpg\" width=\"80\"/></a>, <a href=\"bookdata.asp?NO=D91C17B001\"><img border=\"0\" height=\"100\" src=\"image/book/D91C17B001.jpg\" width=\"80\"/></a>, <a href=\"bookdata.asp?NO=K56C17B003\"><img border=\"0\" height=\"100\" src=\"image/book/K56C17B003.jpg\" width=\"80\"/></a>, <a href=\"bookdata.asp?NO=TN9C17B003\"><img border=\"0\" height=\"100\" src=\"image/book/TN9C17B003.jpg\" width=\"80\"/></a>, <a href=\"bookdata.asp?NO=TP1C17B004\"><img border=\"0\" height=\"100\" src=\"image/book/TP1C17B004.jpg\" width=\"80\"/></a>, <a href=\"bookdata.asp?NO=N49C17B004\"><img border=\"0\" height=\"100\" src=\"image/book/N49C17B004.jpg\" width=\"80\"/></a>, <a href=\"bookdata.asp?NO=K20C17B001\"><img border=\"0\" height=\"100\" src=\"image/book/K20C17B001.jpg\" width=\"80\"/></a>, <a href=\"bookdata.asp?NO=I71C17A002\"><img border=\"0\" height=\"100\" src=\"image/book/I71C17A002.jpg\" width=\"80\"/></a>, <a href=\"bookdata.asp?NO=G42C17B002\"><img border=\"0\" height=\"100\" src=\"image/book/G42C17B002.jpg\" width=\"80\"/></a>, <a href=\"bookdata.asp?NO=TP3C17A055\"><img border=\"0\" height=\"100\" src=\"image/book/TP3C17A055.jpg\" width=\"80\"/></a>, <a href=\"bookdata.asp?NO=TP3C17B011\"><img border=\"0\" height=\"100\" src=\"image/book/TP3C17B011.jpg\" width=\"80\"/></a>, <a href=\"bookdata.asp?NO=TP3C17B012\"><img border=\"0\" height=\"100\" src=\"image/book/TP3C17B012.jpg\" width=\"80\"/></a>, <a href=\"bookdata.asp?NO=TP3C17B015\"><img border=\"0\" height=\"100\" src=\"image/book/TP3C17B015.jpg\" width=\"80\"/></a>, <a href=\"bookdata.asp?NO=TP3C17B019\"><img border=\"0\" height=\"100\" src=\"image/book/TP3C17B019.jpg\" width=\"80\"/></a>, <a href=\"bookdata.asp?NO=TP3C17B021\"><img border=\"0\" height=\"100\" src=\"image/book/TP3C17B021.jpg\" width=\"80\"/></a>, <a href=\"bookdata.asp?NO=TP3C17B023\"><img border=\"0\" height=\"100\" src=\"image/book/TP3C17B023.jpg\" width=\"80\"/></a>, <a href=\"bookdata.asp?NO=TP3C17B025\"><img border=\"0\" height=\"100\" src=\"image/book/TP3C17B025.jpg\" width=\"80\"/></a>, <a href=\"bookdata.asp?NO=TP3C17B034\"><img border=\"0\" height=\"100\" src=\"image/book/TP3C17B034.jpg\" width=\"80\"/></a>, <a href=\"bookdata.asp?NO=TP3C17B035\"><img border=\"0\" height=\"100\" src=\"image/book/TP3C17B035.jpg\" width=\"80\"/></a>, <a href=\"bookdata.asp?NO=TP3C17B041\"><img border=\"0\" height=\"100\" src=\"image/book/TP3C17B041.jpg\" width=\"80\"/></a>, <a href=\"bookdata.asp?NO=J11C17A001\"><img border=\"0\" height=\"100\" src=\"image/book/J11C17A001.jpg\" width=\"80\"/></a>, <a href=\"bookdata.asp?NO=D81C17A002\"><img border=\"0\" height=\"100\" src=\"image/book/D81C17A002.jpg\" width=\"80\"/></a>, <a href=\"bookdata.asp?NO=R79C17B001\"><img border=\"0\" height=\"100\" src=\"image/book/R79C17B001.jpg\" width=\"80\"/></a>]\n"
     ]
    }
   ],
   "source": [
    "import requests\n",
    "from bs4 import BeautifulSoup\n",
    "import json\n",
    "list = []\n",
    "for pg in range(1,2):\n",
    "    URL = 'http://www.waterlike.com.tw/book01.asp?c={}'\n",
    "    resp = requests.get(URL.format(pg))\n",
    "    soup = BeautifulSoup(resp.text,'html5lib')\n",
    "    q = soup.select('table > tbody > tr > td > table > tbody > tr > td > table > tbody > tr > td > table > tbody > tr > td > table > tbody > tr > td > table > tbody > tr > td > a')\n",
    "    b = q[0]\n",
    "    print(q)\n",
    "#     for x in range(0,len(q)):\n",
    "#         title = soup.select('.a-size-base')[x]\n",
    "#         price = soup.select('span.a-price-whole')[x]\n",
    "#         review = soup.select('span.a-icon-alt')[x]\n",
    "#         #print('品名:'+title.text+'  價錢'+price.text)\n",
    "#         final = '品名:'+title.text+'  價錢'+price.text + ' 評價'+review.text\n",
    "#         list.append(final)\n",
    "\n",
    "#         with open('amazon.text','w') as f:\n",
    "#             f.write(json.dumps(list))"
   ]
  },
  {
   "cell_type": "code",
   "execution_count": null,
   "metadata": {
    "collapsed": true
   },
   "outputs": [],
   "source": []
  }
 ],
 "metadata": {
  "kernelspec": {
   "display_name": "Python 3",
   "language": "python",
   "name": "python3"
  },
  "language_info": {
   "codemirror_mode": {
    "name": "ipython",
    "version": 3
   },
   "file_extension": ".py",
   "mimetype": "text/x-python",
   "name": "python",
   "nbconvert_exporter": "python",
   "pygments_lexer": "ipython3",
   "version": "3.6.2"
  }
 },
 "nbformat": 4,
 "nbformat_minor": 2
}
